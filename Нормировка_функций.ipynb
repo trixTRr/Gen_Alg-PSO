{
 "cells": [
  {
   "cell_type": "code",
   "execution_count": null,
   "id": "135efdb2",
   "metadata": {},
   "outputs": [
    {
     "name": "stdout",
     "output_type": "stream",
     "text": [
      "f_max: 6.9764 при x = [0.8789864  0.58686875 6.83033699 0.22472573]\n",
      "f_min: -7.0000 при x = [ 1.68866522 -6.30627859  0.88622813 -1.77245395]\n",
      "Нормированное f(x_star): 0.9301\n"
     ]
    },
    {
     "ename": "",
     "evalue": "",
     "output_type": "error",
     "traceback": [
      "\u001b[1;31mThe Kernel crashed while executing code in the current cell or a previous cell. \n",
      "\u001b[1;31mPlease review the code in the cell(s) to identify a possible cause of the failure. \n",
      "\u001b[1;31mClick <a href='https://aka.ms/vscodeJupyterKernelCrash'>here</a> for more info. \n",
      "\u001b[1;31mView Jupyter <a href='command:jupyter.viewOutput'>log</a> for further details."
     ]
    }
   ],
   "source": [
    "import numpy as np\n",
    "from scipy.optimize import differential_evolution\n",
    "\n",
    "# Определим функцию и ограничения\n",
    "def objective(x):\n",
    "    x1, x2, x3, x4 = x\n",
    "    return np.sin(x3*x4) + 6*(np.cos(x4**2))**3\n",
    "\n",
    "def constraint1(x):\n",
    "    x1, x2, x3, x4 = x\n",
    "    return 15 - (x1 + x2 + x3 + x4)  # >= 0\n",
    "\n",
    "def constraint2(x):\n",
    "    x1, x2, x3, x4 = x\n",
    "    return (x3 + x4) + 15  # >= 0\n",
    "\n",
    "def constraint3(x):\n",
    "    x1, x2, x3, x4 = x\n",
    "    return 50 - (pow(x1,2) + pow(x2,2) + pow(x3,2) + pow(x4,2))  # >= 0\n",
    "\n",
    "# Функция проверки выполнения всех ограничений\n",
    "def feasible(x):\n",
    "    return (constraint1(x) >= 0 and\n",
    "            constraint2(x) >= 0 and\n",
    "            constraint3(x) >= 0)\n",
    "\n",
    "# Найдём минимум и максимум функции на допустимом множестве\n",
    "bounds = [(-10, 10), (-10, 10), (-10, 10), (-10, 10)]\n",
    "\n",
    "def penalized_objective(x):\n",
    "    penalty = 0\n",
    "    if not feasible(x):\n",
    "        penalty = 1e3  # большое число, если есть нарушение\n",
    "    return -objective(x) + penalty  # для минимизации (max -> min)\n",
    "\n",
    "result_max = differential_evolution(\n",
    "    penalized_objective, \n",
    "    bounds,\n",
    "    polish=True, \n",
    "    popsize=25,\n",
    "    strategy='best1bin',\n",
    "    seed=42\n",
    ")\n",
    "\n",
    "f_max = objective(result_max.x)\n",
    "\n",
    "def penalized_objective_min(x):\n",
    "    penalty = 0\n",
    "    if not feasible(x):\n",
    "        penalty = 1e3\n",
    "    return objective(x) + penalty\n",
    "\n",
    "result_min = differential_evolution(\n",
    "    penalized_objective_min,\n",
    "    bounds,\n",
    "    polish=True, \n",
    "    popsize=25,\n",
    "    strategy='best1bin',\n",
    "    seed=42\n",
    ")\n",
    "\n",
    "f_min = objective(result_min.x)\n",
    "\n",
    "print(f\"f_max: {f_max:.4f} при x = {result_max.x}\")\n",
    "print(f\"f_min: {f_min:.4f} при x = {result_min.x}\")\n",
    "\n",
    "# Функция нормировки\n",
    "def normalize_f(x):\n",
    "    f = objective(x)\n",
    "    return (f - f_min) / (f_max - f_min)  # приведём к [0, 1]\n",
    "\n",
    "# Пример: оценить значение в конкретной точке\n",
    "x_star = [np.pi/2, np.sqrt(np.pi), 0, 0]\n",
    "print(f\"Нормированное f(x_star): {normalize_f(x_star):.4f}\")"
   ]
  }
 ],
 "metadata": {
  "kernelspec": {
   "display_name": "Python 3",
   "language": "python",
   "name": "python3"
  },
  "language_info": {
   "codemirror_mode": {
    "name": "ipython",
    "version": 3
   },
   "file_extension": ".py",
   "mimetype": "text/x-python",
   "name": "python",
   "nbconvert_exporter": "python",
   "pygments_lexer": "ipython3",
   "version": "3.12.7"
  }
 },
 "nbformat": 4,
 "nbformat_minor": 5
}
